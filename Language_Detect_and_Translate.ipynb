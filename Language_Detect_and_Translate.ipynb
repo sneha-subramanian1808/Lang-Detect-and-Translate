{
  "cells": [
    {
      "cell_type": "markdown",
      "metadata": {
        "id": "tkQ4Mcsw0uCl"
      },
      "source": [
        "#*Language Detection and Translation*\n",
        "\n",
        "\n",
        "This code will help in detecting the language provided by the user and can also translate it into a language of user choice.\n"
      ]
    },
    {
      "cell_type": "markdown",
      "metadata": {
        "id": "BaMu0IWY0uCr"
      },
      "source": [
        "---\n",
        "---\n",
        "### Importing the libraries"
      ]
    },
    {
      "cell_type": "code",
      "execution_count": 6,
      "metadata": {
        "id": "h41xbzeU0uCs"
      },
      "outputs": [],
      "source": [
        "import pandas as pd\n",
        "import numpy as np"
      ]
    },
    {
      "cell_type": "markdown",
      "metadata": {
        "id": "IXWij5wb0uCv"
      },
      "source": [
        "## Reading the dataset Language_Detection.csv\n",
        "*The dataset used for this project, Language_Detection, comprises 15+ languages and\n",
        "comprises 10,000+ entries. This dataset was obtained from kaggle.*"
      ]
    },
    {
      "cell_type": "code",
      "execution_count": 8,
      "metadata": {
        "id": "-VFWE-f10uCx"
      },
      "outputs": [],
      "source": [
        "import io\n",
        "df = pd.read_csv('LangDataset.csv')"
      ]
    },
    {
      "cell_type": "markdown",
      "metadata": {
        "id": "AQ5U3lJF0uCz"
      },
      "source": [
        "### Printing the first 10 records in the dataset"
      ]
    },
    {
      "cell_type": "code",
      "execution_count": 9,
      "metadata": {
        "colab": {
          "base_uri": "https://localhost:8080/",
          "height": 363
        },
        "id": "-hT98NiB0uC0",
        "outputId": "f7232f75-47c9-417e-91b3-4996f6287339"
      },
      "outputs": [
        {
          "output_type": "execute_result",
          "data": {
            "text/plain": [
              "                                                Text Language\n",
              "0   Nature, in the broadest sense, is the natural...  English\n",
              "1  \"Nature\" can refer to the phenomena of the phy...  English\n",
              "2  The study of nature is a large, if not the onl...  English\n",
              "3  Although humans are part of nature, human acti...  English\n",
              "4  [1] The word nature is borrowed from the Old F...  English\n",
              "5  [2] In ancient philosophy, natura is mostly us...  English\n",
              "6  [3][4] \\nThe concept of nature as a whole, the...  English\n",
              "7  During the advent of modern scientific method ...  English\n",
              "8  [5][6] With the Industrial revolution, nature ...  English\n",
              "9  However, a vitalist vision of nature, closer t...  English"
            ],
            "text/html": [
              "\n",
              "  <div id=\"df-8078e653-13a5-4916-9943-9b8663b68a0b\">\n",
              "    <div class=\"colab-df-container\">\n",
              "      <div>\n",
              "<style scoped>\n",
              "    .dataframe tbody tr th:only-of-type {\n",
              "        vertical-align: middle;\n",
              "    }\n",
              "\n",
              "    .dataframe tbody tr th {\n",
              "        vertical-align: top;\n",
              "    }\n",
              "\n",
              "    .dataframe thead th {\n",
              "        text-align: right;\n",
              "    }\n",
              "</style>\n",
              "<table border=\"1\" class=\"dataframe\">\n",
              "  <thead>\n",
              "    <tr style=\"text-align: right;\">\n",
              "      <th></th>\n",
              "      <th>Text</th>\n",
              "      <th>Language</th>\n",
              "    </tr>\n",
              "  </thead>\n",
              "  <tbody>\n",
              "    <tr>\n",
              "      <th>0</th>\n",
              "      <td>Nature, in the broadest sense, is the natural...</td>\n",
              "      <td>English</td>\n",
              "    </tr>\n",
              "    <tr>\n",
              "      <th>1</th>\n",
              "      <td>\"Nature\" can refer to the phenomena of the phy...</td>\n",
              "      <td>English</td>\n",
              "    </tr>\n",
              "    <tr>\n",
              "      <th>2</th>\n",
              "      <td>The study of nature is a large, if not the onl...</td>\n",
              "      <td>English</td>\n",
              "    </tr>\n",
              "    <tr>\n",
              "      <th>3</th>\n",
              "      <td>Although humans are part of nature, human acti...</td>\n",
              "      <td>English</td>\n",
              "    </tr>\n",
              "    <tr>\n",
              "      <th>4</th>\n",
              "      <td>[1] The word nature is borrowed from the Old F...</td>\n",
              "      <td>English</td>\n",
              "    </tr>\n",
              "    <tr>\n",
              "      <th>5</th>\n",
              "      <td>[2] In ancient philosophy, natura is mostly us...</td>\n",
              "      <td>English</td>\n",
              "    </tr>\n",
              "    <tr>\n",
              "      <th>6</th>\n",
              "      <td>[3][4] \\nThe concept of nature as a whole, the...</td>\n",
              "      <td>English</td>\n",
              "    </tr>\n",
              "    <tr>\n",
              "      <th>7</th>\n",
              "      <td>During the advent of modern scientific method ...</td>\n",
              "      <td>English</td>\n",
              "    </tr>\n",
              "    <tr>\n",
              "      <th>8</th>\n",
              "      <td>[5][6] With the Industrial revolution, nature ...</td>\n",
              "      <td>English</td>\n",
              "    </tr>\n",
              "    <tr>\n",
              "      <th>9</th>\n",
              "      <td>However, a vitalist vision of nature, closer t...</td>\n",
              "      <td>English</td>\n",
              "    </tr>\n",
              "  </tbody>\n",
              "</table>\n",
              "</div>\n",
              "      <button class=\"colab-df-convert\" onclick=\"convertToInteractive('df-8078e653-13a5-4916-9943-9b8663b68a0b')\"\n",
              "              title=\"Convert this dataframe to an interactive table.\"\n",
              "              style=\"display:none;\">\n",
              "        \n",
              "  <svg xmlns=\"http://www.w3.org/2000/svg\" height=\"24px\"viewBox=\"0 0 24 24\"\n",
              "       width=\"24px\">\n",
              "    <path d=\"M0 0h24v24H0V0z\" fill=\"none\"/>\n",
              "    <path d=\"M18.56 5.44l.94 2.06.94-2.06 2.06-.94-2.06-.94-.94-2.06-.94 2.06-2.06.94zm-11 1L8.5 8.5l.94-2.06 2.06-.94-2.06-.94L8.5 2.5l-.94 2.06-2.06.94zm10 10l.94 2.06.94-2.06 2.06-.94-2.06-.94-.94-2.06-.94 2.06-2.06.94z\"/><path d=\"M17.41 7.96l-1.37-1.37c-.4-.4-.92-.59-1.43-.59-.52 0-1.04.2-1.43.59L10.3 9.45l-7.72 7.72c-.78.78-.78 2.05 0 2.83L4 21.41c.39.39.9.59 1.41.59.51 0 1.02-.2 1.41-.59l7.78-7.78 2.81-2.81c.8-.78.8-2.07 0-2.86zM5.41 20L4 18.59l7.72-7.72 1.47 1.35L5.41 20z\"/>\n",
              "  </svg>\n",
              "      </button>\n",
              "      \n",
              "  <style>\n",
              "    .colab-df-container {\n",
              "      display:flex;\n",
              "      flex-wrap:wrap;\n",
              "      gap: 12px;\n",
              "    }\n",
              "\n",
              "    .colab-df-convert {\n",
              "      background-color: #E8F0FE;\n",
              "      border: none;\n",
              "      border-radius: 50%;\n",
              "      cursor: pointer;\n",
              "      display: none;\n",
              "      fill: #1967D2;\n",
              "      height: 32px;\n",
              "      padding: 0 0 0 0;\n",
              "      width: 32px;\n",
              "    }\n",
              "\n",
              "    .colab-df-convert:hover {\n",
              "      background-color: #E2EBFA;\n",
              "      box-shadow: 0px 1px 2px rgba(60, 64, 67, 0.3), 0px 1px 3px 1px rgba(60, 64, 67, 0.15);\n",
              "      fill: #174EA6;\n",
              "    }\n",
              "\n",
              "    [theme=dark] .colab-df-convert {\n",
              "      background-color: #3B4455;\n",
              "      fill: #D2E3FC;\n",
              "    }\n",
              "\n",
              "    [theme=dark] .colab-df-convert:hover {\n",
              "      background-color: #434B5C;\n",
              "      box-shadow: 0px 1px 3px 1px rgba(0, 0, 0, 0.15);\n",
              "      filter: drop-shadow(0px 1px 2px rgba(0, 0, 0, 0.3));\n",
              "      fill: #FFFFFF;\n",
              "    }\n",
              "  </style>\n",
              "\n",
              "      <script>\n",
              "        const buttonEl =\n",
              "          document.querySelector('#df-8078e653-13a5-4916-9943-9b8663b68a0b button.colab-df-convert');\n",
              "        buttonEl.style.display =\n",
              "          google.colab.kernel.accessAllowed ? 'block' : 'none';\n",
              "\n",
              "        async function convertToInteractive(key) {\n",
              "          const element = document.querySelector('#df-8078e653-13a5-4916-9943-9b8663b68a0b');\n",
              "          const dataTable =\n",
              "            await google.colab.kernel.invokeFunction('convertToInteractive',\n",
              "                                                     [key], {});\n",
              "          if (!dataTable) return;\n",
              "\n",
              "          const docLinkHtml = 'Like what you see? Visit the ' +\n",
              "            '<a target=\"_blank\" href=https://colab.research.google.com/notebooks/data_table.ipynb>data table notebook</a>'\n",
              "            + ' to learn more about interactive tables.';\n",
              "          element.innerHTML = '';\n",
              "          dataTable['output_type'] = 'display_data';\n",
              "          await google.colab.output.renderOutput(dataTable, element);\n",
              "          const docLink = document.createElement('div');\n",
              "          docLink.innerHTML = docLinkHtml;\n",
              "          element.appendChild(docLink);\n",
              "        }\n",
              "      </script>\n",
              "    </div>\n",
              "  </div>\n",
              "  "
            ]
          },
          "metadata": {},
          "execution_count": 9
        }
      ],
      "source": [
        "df.head(10)\n"
      ]
    },
    {
      "cell_type": "markdown",
      "metadata": {
        "id": "pBtdVYkSBVai"
      },
      "source": [
        "### Printing the last 10 records in the dataset"
      ]
    },
    {
      "cell_type": "code",
      "execution_count": 10,
      "metadata": {
        "colab": {
          "base_uri": "https://localhost:8080/",
          "height": 363
        },
        "id": "CXMUCif90uC1",
        "outputId": "c1318226-0235-4384-8e99-5ccda69054b5"
      },
      "outputs": [
        {
          "output_type": "execute_result",
          "data": {
            "text/plain": [
              "                                                    Text Language\n",
              "10327  ಗಾಡಿಯಲ್ಲಿ ಮನೆಯಲ್ಲಿ ನಾರ್ಸಿಸ್ ಅವಳು ಮನೆಗೆ ತಲುಪಿದಾ...  Kannada\n",
              "10328  ಅವಳು ಮನೆಯಲ್ಲಿ ಕುಳಿತಿದ್ದ ತನ್ನ ತಾಯಿಯನ್ನು ತಬ್ಬಿಕೊ...  Kannada\n",
              "10329  ಓಹ್ ತಾಯಿ ನಾನು ನಿನ್ನನ್ನು ತುಂಬಾ ಪ್ರೀತಿಸುತ್ತೇನೆ ಮ...  Kannada\n",
              "10330  ಅವನು ಸುಂದರವಾಗಿದ್ದನು, ಅವನು ನನ್ನ ಬಗ್ಗೆ ಅಷ್ಟಾಗಿ ಕ...  Kannada\n",
              "10331          ಓಹ್ ಇಲ್ಲ ನೀವು ನೋಡಿದಾಗಿನಿಂದ ಇದು ಸರಿಯಾಗಿದೆ.  Kannada\n",
              "10332  ನಿಮ್ಮ ತಪ್ಪು ಏನು ಬಂದಿದೆಯೆಂದರೆ ಆ ದಿನದಿಂದ ನಿಮಗೆ ಒ...  Kannada\n",
              "10333  ನಾರ್ಸಿಸಾ ತಾನು ಮೊದಲಿಗೆ ಹೆಣಗಾಡುತ್ತಿದ್ದ ಮಾರ್ಗಗಳನ್...  Kannada\n",
              "10334  ಹೇಗೆ ' ನಾರ್ಸಿಸಿಸಮ್ ಈಗ ಮರಿಯನ್ ಅವರಿಗೆ ಸಂಭವಿಸಿದ ಎ...  Kannada\n",
              "10335  ಅವಳು ಈಗ ಹೆಚ್ಚು ಚಿನ್ನದ ಬ್ರೆಡ್ ಬಯಸುವುದಿಲ್ಲ ಎಂದು ...  Kannada\n",
              "10336  ಟೆರ್ರಿ ನೀವು ನಿಜವಾಗಿಯೂ ಆ ದೇವದೂತನಂತೆ ಸ್ವಲ್ಪ ಕಾಣು...  Kannada"
            ],
            "text/html": [
              "\n",
              "  <div id=\"df-a548ab32-9c10-4676-bacd-1a1f1b7a74af\">\n",
              "    <div class=\"colab-df-container\">\n",
              "      <div>\n",
              "<style scoped>\n",
              "    .dataframe tbody tr th:only-of-type {\n",
              "        vertical-align: middle;\n",
              "    }\n",
              "\n",
              "    .dataframe tbody tr th {\n",
              "        vertical-align: top;\n",
              "    }\n",
              "\n",
              "    .dataframe thead th {\n",
              "        text-align: right;\n",
              "    }\n",
              "</style>\n",
              "<table border=\"1\" class=\"dataframe\">\n",
              "  <thead>\n",
              "    <tr style=\"text-align: right;\">\n",
              "      <th></th>\n",
              "      <th>Text</th>\n",
              "      <th>Language</th>\n",
              "    </tr>\n",
              "  </thead>\n",
              "  <tbody>\n",
              "    <tr>\n",
              "      <th>10327</th>\n",
              "      <td>ಗಾಡಿಯಲ್ಲಿ ಮನೆಯಲ್ಲಿ ನಾರ್ಸಿಸ್ ಅವಳು ಮನೆಗೆ ತಲುಪಿದಾ...</td>\n",
              "      <td>Kannada</td>\n",
              "    </tr>\n",
              "    <tr>\n",
              "      <th>10328</th>\n",
              "      <td>ಅವಳು ಮನೆಯಲ್ಲಿ ಕುಳಿತಿದ್ದ ತನ್ನ ತಾಯಿಯನ್ನು ತಬ್ಬಿಕೊ...</td>\n",
              "      <td>Kannada</td>\n",
              "    </tr>\n",
              "    <tr>\n",
              "      <th>10329</th>\n",
              "      <td>ಓಹ್ ತಾಯಿ ನಾನು ನಿನ್ನನ್ನು ತುಂಬಾ ಪ್ರೀತಿಸುತ್ತೇನೆ ಮ...</td>\n",
              "      <td>Kannada</td>\n",
              "    </tr>\n",
              "    <tr>\n",
              "      <th>10330</th>\n",
              "      <td>ಅವನು ಸುಂದರವಾಗಿದ್ದನು, ಅವನು ನನ್ನ ಬಗ್ಗೆ ಅಷ್ಟಾಗಿ ಕ...</td>\n",
              "      <td>Kannada</td>\n",
              "    </tr>\n",
              "    <tr>\n",
              "      <th>10331</th>\n",
              "      <td>ಓಹ್ ಇಲ್ಲ ನೀವು ನೋಡಿದಾಗಿನಿಂದ ಇದು ಸರಿಯಾಗಿದೆ.</td>\n",
              "      <td>Kannada</td>\n",
              "    </tr>\n",
              "    <tr>\n",
              "      <th>10332</th>\n",
              "      <td>ನಿಮ್ಮ ತಪ್ಪು ಏನು ಬಂದಿದೆಯೆಂದರೆ ಆ ದಿನದಿಂದ ನಿಮಗೆ ಒ...</td>\n",
              "      <td>Kannada</td>\n",
              "    </tr>\n",
              "    <tr>\n",
              "      <th>10333</th>\n",
              "      <td>ನಾರ್ಸಿಸಾ ತಾನು ಮೊದಲಿಗೆ ಹೆಣಗಾಡುತ್ತಿದ್ದ ಮಾರ್ಗಗಳನ್...</td>\n",
              "      <td>Kannada</td>\n",
              "    </tr>\n",
              "    <tr>\n",
              "      <th>10334</th>\n",
              "      <td>ಹೇಗೆ ' ನಾರ್ಸಿಸಿಸಮ್ ಈಗ ಮರಿಯನ್ ಅವರಿಗೆ ಸಂಭವಿಸಿದ ಎ...</td>\n",
              "      <td>Kannada</td>\n",
              "    </tr>\n",
              "    <tr>\n",
              "      <th>10335</th>\n",
              "      <td>ಅವಳು ಈಗ ಹೆಚ್ಚು ಚಿನ್ನದ ಬ್ರೆಡ್ ಬಯಸುವುದಿಲ್ಲ ಎಂದು ...</td>\n",
              "      <td>Kannada</td>\n",
              "    </tr>\n",
              "    <tr>\n",
              "      <th>10336</th>\n",
              "      <td>ಟೆರ್ರಿ ನೀವು ನಿಜವಾಗಿಯೂ ಆ ದೇವದೂತನಂತೆ ಸ್ವಲ್ಪ ಕಾಣು...</td>\n",
              "      <td>Kannada</td>\n",
              "    </tr>\n",
              "  </tbody>\n",
              "</table>\n",
              "</div>\n",
              "      <button class=\"colab-df-convert\" onclick=\"convertToInteractive('df-a548ab32-9c10-4676-bacd-1a1f1b7a74af')\"\n",
              "              title=\"Convert this dataframe to an interactive table.\"\n",
              "              style=\"display:none;\">\n",
              "        \n",
              "  <svg xmlns=\"http://www.w3.org/2000/svg\" height=\"24px\"viewBox=\"0 0 24 24\"\n",
              "       width=\"24px\">\n",
              "    <path d=\"M0 0h24v24H0V0z\" fill=\"none\"/>\n",
              "    <path d=\"M18.56 5.44l.94 2.06.94-2.06 2.06-.94-2.06-.94-.94-2.06-.94 2.06-2.06.94zm-11 1L8.5 8.5l.94-2.06 2.06-.94-2.06-.94L8.5 2.5l-.94 2.06-2.06.94zm10 10l.94 2.06.94-2.06 2.06-.94-2.06-.94-.94-2.06-.94 2.06-2.06.94z\"/><path d=\"M17.41 7.96l-1.37-1.37c-.4-.4-.92-.59-1.43-.59-.52 0-1.04.2-1.43.59L10.3 9.45l-7.72 7.72c-.78.78-.78 2.05 0 2.83L4 21.41c.39.39.9.59 1.41.59.51 0 1.02-.2 1.41-.59l7.78-7.78 2.81-2.81c.8-.78.8-2.07 0-2.86zM5.41 20L4 18.59l7.72-7.72 1.47 1.35L5.41 20z\"/>\n",
              "  </svg>\n",
              "      </button>\n",
              "      \n",
              "  <style>\n",
              "    .colab-df-container {\n",
              "      display:flex;\n",
              "      flex-wrap:wrap;\n",
              "      gap: 12px;\n",
              "    }\n",
              "\n",
              "    .colab-df-convert {\n",
              "      background-color: #E8F0FE;\n",
              "      border: none;\n",
              "      border-radius: 50%;\n",
              "      cursor: pointer;\n",
              "      display: none;\n",
              "      fill: #1967D2;\n",
              "      height: 32px;\n",
              "      padding: 0 0 0 0;\n",
              "      width: 32px;\n",
              "    }\n",
              "\n",
              "    .colab-df-convert:hover {\n",
              "      background-color: #E2EBFA;\n",
              "      box-shadow: 0px 1px 2px rgba(60, 64, 67, 0.3), 0px 1px 3px 1px rgba(60, 64, 67, 0.15);\n",
              "      fill: #174EA6;\n",
              "    }\n",
              "\n",
              "    [theme=dark] .colab-df-convert {\n",
              "      background-color: #3B4455;\n",
              "      fill: #D2E3FC;\n",
              "    }\n",
              "\n",
              "    [theme=dark] .colab-df-convert:hover {\n",
              "      background-color: #434B5C;\n",
              "      box-shadow: 0px 1px 3px 1px rgba(0, 0, 0, 0.15);\n",
              "      filter: drop-shadow(0px 1px 2px rgba(0, 0, 0, 0.3));\n",
              "      fill: #FFFFFF;\n",
              "    }\n",
              "  </style>\n",
              "\n",
              "      <script>\n",
              "        const buttonEl =\n",
              "          document.querySelector('#df-a548ab32-9c10-4676-bacd-1a1f1b7a74af button.colab-df-convert');\n",
              "        buttonEl.style.display =\n",
              "          google.colab.kernel.accessAllowed ? 'block' : 'none';\n",
              "\n",
              "        async function convertToInteractive(key) {\n",
              "          const element = document.querySelector('#df-a548ab32-9c10-4676-bacd-1a1f1b7a74af');\n",
              "          const dataTable =\n",
              "            await google.colab.kernel.invokeFunction('convertToInteractive',\n",
              "                                                     [key], {});\n",
              "          if (!dataTable) return;\n",
              "\n",
              "          const docLinkHtml = 'Like what you see? Visit the ' +\n",
              "            '<a target=\"_blank\" href=https://colab.research.google.com/notebooks/data_table.ipynb>data table notebook</a>'\n",
              "            + ' to learn more about interactive tables.';\n",
              "          element.innerHTML = '';\n",
              "          dataTable['output_type'] = 'display_data';\n",
              "          await google.colab.output.renderOutput(dataTable, element);\n",
              "          const docLink = document.createElement('div');\n",
              "          docLink.innerHTML = docLinkHtml;\n",
              "          element.appendChild(docLink);\n",
              "        }\n",
              "      </script>\n",
              "    </div>\n",
              "  </div>\n",
              "  "
            ]
          },
          "metadata": {},
          "execution_count": 10
        }
      ],
      "source": [
        "df.tail(10)"
      ]
    },
    {
      "cell_type": "markdown",
      "metadata": {
        "id": "B_qh_Alv0uC0"
      },
      "source": [
        "### Information about the dataset"
      ]
    },
    {
      "cell_type": "code",
      "execution_count": 11,
      "metadata": {
        "colab": {
          "base_uri": "https://localhost:8080/"
        },
        "id": "tnYV5KvI5Ax0",
        "outputId": "e3eb041c-f1dd-4bbf-93c9-f924b34e2e1c"
      },
      "outputs": [
        {
          "output_type": "stream",
          "name": "stdout",
          "text": [
            "<class 'pandas.core.frame.DataFrame'>\n",
            "RangeIndex: 10337 entries, 0 to 10336\n",
            "Data columns (total 2 columns):\n",
            " #   Column    Non-Null Count  Dtype \n",
            "---  ------    --------------  ----- \n",
            " 0   Text      10337 non-null  object\n",
            " 1   Language  10337 non-null  object\n",
            "dtypes: object(2)\n",
            "memory usage: 161.6+ KB\n"
          ]
        }
      ],
      "source": [
        "df.info()"
      ]
    },
    {
      "cell_type": "markdown",
      "metadata": {
        "id": "E9dVSLNb0uC2"
      },
      "source": [
        "### Counting the unique records in the \"Language\" column\n",
        "*We have 17 languages and their corresponding unique words are shown below.*\n"
      ]
    },
    {
      "cell_type": "code",
      "execution_count": 12,
      "metadata": {
        "colab": {
          "base_uri": "https://localhost:8080/"
        },
        "id": "MpxiQe9z0uC2",
        "outputId": "38c24bf3-cadd-4cfc-a593-7d5f5b140e90"
      },
      "outputs": [
        {
          "output_type": "execute_result",
          "data": {
            "text/plain": [
              "English       1385\n",
              "French        1014\n",
              "Spanish        819\n",
              "Portugeese     739\n",
              "Italian        698\n",
              "Russian        692\n",
              "Sweedish       676\n",
              "Malayalam      594\n",
              "Dutch          546\n",
              "Arabic         536\n",
              "Turkish        474\n",
              "German         470\n",
              "Tamil          469\n",
              "Danish         428\n",
              "Kannada        369\n",
              "Greek          365\n",
              "Hindi           63\n",
              "Name: Language, dtype: int64"
            ]
          },
          "metadata": {},
          "execution_count": 12
        }
      ],
      "source": [
        "df[\"Language\"].value_counts()"
      ]
    },
    {
      "cell_type": "markdown",
      "metadata": {
        "id": "Rx0KsVFm0uC2"
      },
      "source": [
        "### Printing the shape of the dataset"
      ]
    },
    {
      "cell_type": "code",
      "execution_count": 13,
      "metadata": {
        "colab": {
          "base_uri": "https://localhost:8080/"
        },
        "id": "tCDLbPe60uC3",
        "outputId": "03a52780-c9f8-4950-cbad-7669c19a8d8b"
      },
      "outputs": [
        {
          "output_type": "stream",
          "name": "stdout",
          "text": [
            "(10337, 2)\n"
          ]
        }
      ],
      "source": [
        "X = df[\"Text\"]\n",
        "y = df[\"Language\"]\n",
        "print(df.shape)"
      ]
    },
    {
      "cell_type": "markdown",
      "metadata": {
        "id": "5c2OSICP0uC3"
      },
      "source": [
        "### Converting the categorical variables into numerical variables"
      ]
    },
    {
      "cell_type": "code",
      "execution_count": 14,
      "metadata": {
        "id": "bLiZqE1l0uC3"
      },
      "outputs": [],
      "source": [
        "from sklearn.preprocessing import LabelEncoder\n",
        "le = LabelEncoder()\n",
        "y = le.fit_transform(y)"
      ]
    },
    {
      "cell_type": "markdown",
      "metadata": {
        "id": "wsOn3bjx0uC4"
      },
      "source": [
        "---\n",
        "---\n",
        "\n",
        "#*Creating a list for appending the preprocessed text*\n",
        "\n",
        "To help in cleaning up the data we we removed the unwanted characters such as punctuation marks, numbers,symbols and special characters so that we can extract only the required text from the dataset\n",
        "\n",
        "*We convert all the text to lowercase characters*"
      ]
    },
    {
      "cell_type": "code",
      "execution_count": 15,
      "metadata": {
        "id": "BDLLQOYh0uC4",
        "colab": {
          "base_uri": "https://localhost:8080/"
        },
        "outputId": "83541dfb-9e16-4e6e-907b-8a3caca46fc4"
      },
      "outputs": [
        {
          "output_type": "stream",
          "name": "stderr",
          "text": [
            "/usr/local/lib/python3.7/dist-packages/ipykernel_launcher.py:5: FutureWarning: Possible nested set at position 1\n",
            "  \"\"\"\n"
          ]
        }
      ],
      "source": [
        "import re\n",
        "df_list = []\n",
        "for text in X:\n",
        "        text = re.sub(r'[!@#$(),n\"%^*?:;~`0-9]', ' ', str(text))\n",
        "        text = re.sub(r'[[]]', ' ', str(text))\n",
        "        text = text.lower()\n",
        "        df_list.append(text)"
      ]
    },
    {
      "cell_type": "markdown",
      "metadata": {
        "id": "Q30k3_U_0uC5"
      },
      "source": [
        "### To format the text into vectors"
      ]
    },
    {
      "cell_type": "code",
      "execution_count": 16,
      "metadata": {
        "colab": {
          "base_uri": "https://localhost:8080/"
        },
        "id": "psi0roAC0uC5",
        "outputId": "e1c68e3b-15a1-42b5-ddc0-3a2604bd5fe9"
      },
      "outputs": [
        {
          "output_type": "execute_result",
          "data": {
            "text/plain": [
              "361143769"
            ]
          },
          "metadata": {},
          "execution_count": 16
        }
      ],
      "source": [
        "from sklearn.feature_extraction.text import CountVectorizer\n",
        "cv = CountVectorizer()\n",
        "X = cv.fit_transform(df_list).toarray()\n",
        "X.size"
      ]
    },
    {
      "cell_type": "markdown",
      "metadata": {
        "id": "u69cDxLY0uC6"
      },
      "source": [
        "---\n",
        "---\n",
        "#*Training test and and Testing set for x and y*"
      ]
    },
    {
      "cell_type": "code",
      "execution_count": 17,
      "metadata": {
        "id": "4w6t2AEo0uC6"
      },
      "outputs": [],
      "source": [
        "from sklearn.model_selection import train_test_split\n",
        "x_train, x_test, y_train, y_test = train_test_split(X, y, test_size = 0.20)\n"
      ]
    },
    {
      "cell_type": "markdown",
      "metadata": {
        "id": "dwUUYo3I0uC6"
      },
      "source": [
        "## MultinomialNB model"
      ]
    },
    {
      "cell_type": "code",
      "execution_count": 18,
      "metadata": {
        "id": "SYO3bk770uC6"
      },
      "outputs": [],
      "source": [
        "from sklearn.naive_bayes import MultinomialNB\n",
        "model = MultinomialNB()"
      ]
    },
    {
      "cell_type": "markdown",
      "metadata": {
        "id": "cUhKKZ680uC7"
      },
      "source": [
        "## Prediction"
      ]
    },
    {
      "cell_type": "code",
      "execution_count": 19,
      "metadata": {
        "id": "EvUTFniI0uC7"
      },
      "outputs": [],
      "source": [
        "model.fit(x_train, y_train)\n",
        "y_pred = model.predict(x_test)"
      ]
    },
    {
      "cell_type": "markdown",
      "metadata": {
        "id": "wiypOSSI0uC7"
      },
      "source": [
        "---\n",
        "---\n",
        "# *Calculating the accuracy , confusion matrix and classfication report*"
      ]
    },
    {
      "cell_type": "code",
      "execution_count": 20,
      "metadata": {
        "id": "OgT600q50uC7"
      },
      "outputs": [],
      "source": [
        "from sklearn.metrics import accuracy_score, confusion_matrix, classification_report"
      ]
    },
    {
      "cell_type": "markdown",
      "metadata": {
        "id": "_oMa5ZqA0uC7"
      },
      "source": [
        "## Accuracy Score\n",
        "*The accuracy found out while predicting the languages is found to be\n",
        "97.77756%*"
      ]
    },
    {
      "cell_type": "code",
      "execution_count": 21,
      "metadata": {
        "colab": {
          "base_uri": "https://localhost:8080/"
        },
        "id": "Av8T9oKr0uC8",
        "outputId": "a4c8c524-3b0c-4349-fa69-555ddb965c39"
      },
      "outputs": [
        {
          "output_type": "stream",
          "name": "stdout",
          "text": [
            "The accuracy comes to :  0.9777562862669246\n"
          ]
        }
      ],
      "source": [
        "ac = accuracy_score(y_test, y_pred)\n",
        "print(\"The accuracy comes to : \",ac)"
      ]
    },
    {
      "cell_type": "markdown",
      "metadata": {
        "id": "nbAKacXY0uC8"
      },
      "source": [
        "## Confusion Matrix\n",
        "*The confusion matrix displayed here gives information on how the languages\n",
        "are being compared and the similarity of one language with another.*"
      ]
    },
    {
      "cell_type": "code",
      "execution_count": 22,
      "metadata": {
        "colab": {
          "base_uri": "https://localhost:8080/"
        },
        "id": "EvsN8w4d0uC8",
        "outputId": "4892c155-8764-4f98-901a-58cca33c3b61",
        "scrolled": true
      },
      "outputs": [
        {
          "output_type": "stream",
          "name": "stdout",
          "text": [
            "Confusion Matrix : \n",
            "\n",
            " [[ 94   0   0   5   0   0   0   0   0   0   0   0   0   0   0   0   0]\n",
            " [  0  84   0   0   2   0   0   0   0   0   0   1   0   0   3   0   0]\n",
            " [  0   0 116   2   0   1   0   0   0   0   0   0   0   0   0   0   0]\n",
            " [  0   0   0 293   0   0   0   0   0   0   0   0   0   1   0   0   0]\n",
            " [  0   0   1   2 212   0   0   0   1   0   0   0   0   0   0   0   0]\n",
            " [  0   0   0   1   0  81   0   0   0   0   0   0   0   0   1   0   0]\n",
            " [  0   0   0   0   0   0  71   0   0   0   0   0   0   0   0   0   0]\n",
            " [  0   0   0   1   0   0   0   9   0   0   0   0   0   0   0   0   0]\n",
            " [  0   0   0   0   0   0   0   0 128   0   0   0   0   2   0   0   0]\n",
            " [  0   1   0   1   0   0   0   0   0  63   0   0   0   0   0   0   0]\n",
            " [  0   0   0   3   0   0   0   0   0   0 124   0   0   0   0   0   0]\n",
            " [  0   0   0   0   0   0   0   0   1   0   0 152   0   3   0   0   0]\n",
            " [  0   0   0   3   0   0   0   0   0   0   0   0 132   0   0   0   0]\n",
            " [  0   1   0   3   0   0   0   0   0   0   0   0   0 144   0   0   0]\n",
            " [  0   0   0   1   0   0   0   0   0   0   0   0   0   0 148   0   0]\n",
            " [  0   0   0   0   0   0   0   0   0   0   0   0   0   0   0  90   0]\n",
            " [  0   0   0   2   0   0   0   0   0   0   0   1   0   2   0   0  81]]\n"
          ]
        }
      ],
      "source": [
        "cm = confusion_matrix(y_test, y_pred)\n",
        "print (\"Confusion Matrix : \\n\\n\",cm)"
      ]
    },
    {
      "cell_type": "markdown",
      "metadata": {
        "id": "7E7KojcV0uC8"
      },
      "source": [
        "## Classification Report"
      ]
    },
    {
      "cell_type": "code",
      "execution_count": 23,
      "metadata": {
        "colab": {
          "base_uri": "https://localhost:8080/"
        },
        "id": "EclhV6Xf0uC9",
        "outputId": "26ff0f69-b892-42df-ac23-fe4f0f4b0d46"
      },
      "outputs": [
        {
          "output_type": "stream",
          "name": "stdout",
          "text": [
            "Classification Report : \n",
            "\n",
            "               precision    recall  f1-score   support\n",
            "\n",
            "           0       1.00      0.95      0.97        99\n",
            "           1       0.98      0.93      0.95        90\n",
            "           2       0.99      0.97      0.98       119\n",
            "           3       0.92      1.00      0.96       294\n",
            "           4       0.99      0.98      0.99       216\n",
            "           5       0.99      0.98      0.98        83\n",
            "           6       1.00      1.00      1.00        71\n",
            "           7       1.00      0.90      0.95        10\n",
            "           8       0.98      0.98      0.98       130\n",
            "           9       1.00      0.97      0.98        65\n",
            "          10       1.00      0.98      0.99       127\n",
            "          11       0.99      0.97      0.98       156\n",
            "          12       1.00      0.98      0.99       135\n",
            "          13       0.95      0.97      0.96       148\n",
            "          14       0.97      0.99      0.98       149\n",
            "          15       1.00      1.00      1.00        90\n",
            "          16       1.00      0.94      0.97        86\n",
            "\n",
            "    accuracy                           0.98      2068\n",
            "   macro avg       0.99      0.97      0.98      2068\n",
            "weighted avg       0.98      0.98      0.98      2068\n",
            "\n"
          ]
        }
      ],
      "source": [
        "cr = classification_report(y_test, y_pred)\n",
        "print (\"Classification Report : \\n\\n\",cr)"
      ]
    },
    {
      "cell_type": "markdown",
      "metadata": {
        "id": "6LIVcTHr0uC9"
      },
      "source": [
        "## Plotting the confusion matrix onto a heatmap"
      ]
    },
    {
      "cell_type": "code",
      "execution_count": 24,
      "metadata": {
        "colab": {
          "base_uri": "https://localhost:8080/",
          "height": 700
        },
        "id": "FElnohg30uC-",
        "outputId": "3f955ab3-1249-4407-f775-e19498092e2c"
      },
      "outputs": [
        {
          "output_type": "display_data",
          "data": {
            "text/plain": [
              "<Figure size 1080x864 with 2 Axes>"
            ],
            "image/png": "[encoded data removed]"
          },
          "metadata": {
            "needs_background": "light"
          }
        }
      ],
      "source": [
        "import seaborn as sns\n",
        "import matplotlib.pyplot as plt\n",
        "plt.figure(figsize=(15,12))\n",
        "sns.heatmap(cm, annot = True,fmt=\"d\",cmap=\"Spectral\", linewidths=.3 )\n",
        "plt.show()"
      ]
    },
    {
      "cell_type": "markdown",
      "metadata": {
        "id": "78pxdrpo0uC_"
      },
      "source": [
        "---\n",
        "---\n",
        "# *The 'predict' function*\n",
        "\n",
        "We then declared a function called \"predict\" which will take \"text\" as a parameter and convert the text to words with the use of CountVectorizer. \n",
        "\n",
        "It predicts the language with the use of the language coloumn"
      ]
    },
    {
      "cell_type": "code",
      "execution_count": 25,
      "metadata": {
        "id": "-lKQdFKI0uDA"
      },
      "outputs": [],
      "source": [
        "def predict(text):\n",
        "    x = cv.transform([text]).toarray() \n",
        "    lang = model.predict(x)\n",
        "    lang = le.inverse_transform(lang)\n",
        "    print(lang[0]) "
      ]
    },
    {
      "cell_type": "markdown",
      "metadata": {
        "id": "aIRiDHBw0uDB"
      },
      "source": [
        "##Few examples to showcase the working of the model"
      ]
    },
    {
      "cell_type": "code",
      "execution_count": 26,
      "metadata": {
        "colab": {
          "base_uri": "https://localhost:8080/"
        },
        "id": "fRVl5FwU0uDB",
        "outputId": "2242f3aa-14c0-4e1c-9346-fb20173beb7c"
      },
      "outputs": [
        {
          "output_type": "stream",
          "name": "stdout",
          "text": [
            "English\n",
            "French\n",
            "Arabic\n",
            "Spanish\n",
            "Malayalam\n",
            "Russian\n"
          ]
        }
      ],
      "source": [
        "predict(\"Sneha Subramanian has worked on this project\")\n",
        "\n",
        "predict(\"sneha a travaillé sur ce projet\")\n",
        "\n",
        "predict(\"عملت سنيها في هذا المشروع\")\n",
        "\n",
        "predict(\"Sneha ha trabajado en este código\")\n",
        "\n",
        "predict(\"സ്നേഹ ഈ കോഡിൽ പ്രവർത്തിച്ചിട്ടുണ്ട്\")\n",
        "\n",
        "predict(\"Снеха работала над этим кодом\")"
      ]
    },
    {
      "cell_type": "markdown",
      "metadata": {
        "id": "99cVprPpErKS"
      },
      "source": [
        "##MANUALLY TESTING THE MODEL\n"
      ]
    },
    {
      "cell_type": "markdown",
      "metadata": {
        "id": "msLucpv10uDC"
      },
      "source": [
        "Trial:\n",
        "\n",
        "أهلا - Arabic\n",
        "\n",
        "Hallo - Dutch\n",
        "\n",
        "Bonjour - French\n",
        "\n",
        "Hola - Spanish\n",
        "\n",
        "---\n",
        "\n",
        "Trial:\n",
        "\n",
        "Verabschiedung - German\n",
        "\n",
        "До свидания - Russian\n",
        "\n",
        "பிரியாவிடை - Tamil\n",
        "\n",
        "വിട - Malayalam\n",
        "\n",
        "---\n",
        "\n",
        "### Input a phrase here"
      ]
    },
    {
      "cell_type": "code",
      "execution_count": 27,
      "metadata": {
        "id": "wki79UjV0uDC",
        "colab": {
          "base_uri": "https://localhost:8080/"
        },
        "outputId": "98766c28-5482-421e-bee2-81038fe64141"
      },
      "outputs": [
        {
          "name": "stdout",
          "output_type": "stream",
          "text": [
            "أهلا\n"
          ]
        }
      ],
      "source": [
        "a=input()"
      ]
    },
    {
      "cell_type": "markdown",
      "metadata": {
        "id": "B0P5gP7c0uDD"
      },
      "source": [
        "### Detecting the language using function 'predict'"
      ]
    },
    {
      "cell_type": "code",
      "execution_count": 28,
      "metadata": {
        "id": "RPoT-AqX0uDD",
        "colab": {
          "base_uri": "https://localhost:8080/"
        },
        "outputId": "b0f1fd2a-eea8-45db-efab-fcf18e87b281"
      },
      "outputs": [
        {
          "output_type": "stream",
          "name": "stdout",
          "text": [
            "Arabic\n"
          ]
        }
      ],
      "source": [
        "pl=predict(a)\n",
        "pl"
      ]
    },
    {
      "cell_type": "markdown",
      "source": [
        "---\n",
        "# Translation\n",
        "---\n",
        "This section of the code will translate the user input into a user given language."
      ],
      "metadata": {
        "id": "xAECnvq-AqaQ"
      }
    },
    {
      "cell_type": "code",
      "source": [
        "b=input()"
      ],
      "metadata": {
        "id": "vvCasCUP_BhQ",
        "colab": {
          "base_uri": "https://localhost:8080/"
        },
        "outputId": "590d6b78-4b3e-4835-fee8-14501eaeef85"
      },
      "execution_count": 29,
      "outputs": [
        {
          "name": "stdout",
          "output_type": "stream",
          "text": [
            "Russian\n"
          ]
        }
      ]
    },
    {
      "cell_type": "markdown",
      "source": [
        "Installing Dependencies"
      ],
      "metadata": {
        "id": "-UzuP9uZA8sL"
      }
    },
    {
      "cell_type": "code",
      "source": [
        "!pip install deep-translator"
      ],
      "metadata": {
        "id": "dmU71gb5-zI5",
        "colab": {
          "base_uri": "https://localhost:8080/"
        },
        "outputId": "727a4b84-2ae1-4556-d8b5-723e94275801"
      },
      "execution_count": 30,
      "outputs": [
        {
          "output_type": "stream",
          "name": "stdout",
          "text": [
            "Looking in indexes: https://pypi.org/simple, https://us-python.pkg.dev/colab-wheels/public/simple/\n",
            "Collecting deep-translator\n",
            "  Downloading deep_translator-1.8.3-py3-none-any.whl (29 kB)\n",
            "Requirement already satisfied: requests<3.0.0,>=2.23.0 in /usr/local/lib/python3.7/dist-packages (from deep-translator) (2.23.0)\n",
            "Collecting beautifulsoup4<5.0.0,>=4.9.1\n",
            "  Downloading beautifulsoup4-4.11.1-py3-none-any.whl (128 kB)\n",
            "\u001b[K     |████████████████████████████████| 128 kB 6.8 MB/s \n",
            "\u001b[?25hCollecting soupsieve>1.2\n",
            "  Downloading soupsieve-2.3.2.post1-py3-none-any.whl (37 kB)\n",
            "Requirement already satisfied: chardet<4,>=3.0.2 in /usr/local/lib/python3.7/dist-packages (from requests<3.0.0,>=2.23.0->deep-translator) (3.0.4)\n",
            "Requirement already satisfied: idna<3,>=2.5 in /usr/local/lib/python3.7/dist-packages (from requests<3.0.0,>=2.23.0->deep-translator) (2.10)\n",
            "Requirement already satisfied: certifi>=2017.4.17 in /usr/local/lib/python3.7/dist-packages (from requests<3.0.0,>=2.23.0->deep-translator) (2022.6.15)\n",
            "Requirement already satisfied: urllib3!=1.25.0,!=1.25.1,<1.26,>=1.21.1 in /usr/local/lib/python3.7/dist-packages (from requests<3.0.0,>=2.23.0->deep-translator) (1.24.3)\n",
            "Installing collected packages: soupsieve, beautifulsoup4, deep-translator\n",
            "  Attempting uninstall: beautifulsoup4\n",
            "    Found existing installation: beautifulsoup4 4.6.3\n",
            "    Uninstalling beautifulsoup4-4.6.3:\n",
            "      Successfully uninstalled beautifulsoup4-4.6.3\n",
            "Successfully installed beautifulsoup4-4.11.1 deep-translator-1.8.3 soupsieve-2.3.2.post1\n"
          ]
        }
      ]
    },
    {
      "cell_type": "code",
      "source": [
        "from deep_translator import GoogleTranslator"
      ],
      "metadata": {
        "id": "Szn7XwFz8pcx"
      },
      "execution_count": 31,
      "outputs": []
    },
    {
      "cell_type": "markdown",
      "source": [
        "Translation Code"
      ],
      "metadata": {
        "id": "dTkIAvZ5BFf-"
      }
    },
    {
      "cell_type": "code",
      "source": [
        "to_translate = a\n",
        "\n",
        "if(b==\"English\" or b==\"english\"):\n",
        "    translated = GoogleTranslator(source='auto', target='en').translate(to_translate)\n",
        "elif(b==\"French\" or b==\"french\"):\n",
        "    translated = GoogleTranslator(source='auto', target='fr').translate(to_translate)\n",
        "elif(b==\"Arabic\" or b==\"arabic\"):\n",
        "    translated = GoogleTranslator(source='auto', target='ar').translate(to_translate)\n",
        "elif(b==\"Spanish\" or b==\"spanish\"):\n",
        "    translated = GoogleTranslator(source='auto', target='es').translate(to_translate)\n",
        "elif(b==\"German\" or b==\"german\"):\n",
        "    translated = GoogleTranslator(source='auto', target='de').translate(to_translate)\n",
        "elif(b==\"Portugese\" or b==\"portugese\"):\n",
        "    translated = GoogleTranslator(source='auto', target='pt').translate(to_translate)\n",
        "elif(b==\"russian\" or b==\"Russian\"):\n",
        "    translated = GoogleTranslator(source='auto', target='ru').translate(to_translate)\n",
        "elif(b==\"Sweedish\" or b==\"sweedish\"):\n",
        "    translated = GoogleTranslator(source='auto', target='sv').translate(to_translate)\n",
        "elif(b==\"Dutch\" or b==\"dutch\"):\n",
        "    translated = GoogleTranslator(source='auto', target='nl').translate(to_translate)\n",
        "elif(b==\"Turkish\" or b==\"turkish\"):\n",
        "    translated = GoogleTranslator(source='auto', target='tr').translate(to_translate)\n",
        "elif(b==\"Danish\" or b==\"danish\"):\n",
        "    translated = GoogleTranslator(source='auto', target='da').translate(to_translate)\n",
        "elif(b==\"Greek\" or b==\"greek\"):\n",
        "    translated = GoogleTranslator(source='auto', target='el').translate(to_translate)\n",
        "elif(b==\"Tamil\" or b==\"tamil\"):\n",
        "    translated = GoogleTranslator(source='auto', target='ta').translate(to_translate)\n",
        "elif(b==\"Hindi\" or b==\"hindi\"):\n",
        "    translated = GoogleTranslator(source='auto', target='hi').translate(to_translate)\n",
        "elif(b==\"Kannada\" or b==\"kannada\"):\n",
        "    translated = GoogleTranslator(source='auto', target='kn').translate(to_translate)\n",
        "elif(b==\"Malayalam\" or b==\"malayalam\"):\n",
        "    translated = GoogleTranslator(source='auto', target='ml').translate(to_translate)\n",
        "elif(b==\"Italian\" or b==\"italian\"):\n",
        "    translated = GoogleTranslator(source='auto', target='it').translate(to_translate)\n",
        "\n",
        "print(\"The translation of \",a,\" to \",b,\" is \",translated)"
      ],
      "metadata": {
        "id": "rG2GKA36-7aB",
        "colab": {
          "base_uri": "https://localhost:8080/"
        },
        "outputId": "d4415329-a7c2-4568-874c-779d9201c64d"
      },
      "execution_count": 32,
      "outputs": [
        {
          "output_type": "stream",
          "name": "stdout",
          "text": [
            "The translation of  أهلا  to  Russian  is  Привет\n"
          ]
        }
      ]
    },
    {
      "cell_type": "markdown",
      "source": [
        "---"
      ],
      "metadata": {
        "id": "Y11vFXR8BKxq"
      }
    }
  ],
  "metadata": {
    "colab": {
      "collapsed_sections": [],
      "provenance": []
    },
    "kernelspec": {
      "display_name": "Python 3",
      "language": "python",
      "name": "python3"
    },
    "language_info": {
      "codemirror_mode": {
        "name": "ipython",
        "version": 3
      },
      "file_extension": ".py",
      "mimetype": "text/x-python",
      "name": "python",
      "nbconvert_exporter": "python",
      "pygments_lexer": "ipython3",
      "version": "3.8.5"
    }
  },
  "nbformat": 4,
  "nbformat_minor": 0
}